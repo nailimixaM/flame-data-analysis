{
 "cells": [
  {
   "cell_type": "code",
   "execution_count": null,
   "metadata": {
    "collapsed": true
   },
   "outputs": [],
   "source": [
    "%matplotlib inline"
   ]
  },
  {
   "cell_type": "markdown",
   "metadata": {},
   "source": [
    "## Original Image\n",
    "\n",
    "![title](input.d/pinchOff-0.png)\n",
    "\n",
    "## Contour Plot"
   ]
  },
  {
   "cell_type": "code",
   "execution_count": null,
   "metadata": {},
   "outputs": [],
   "source": [
    "import imageio\n",
    "import numpy as np\n",
    "import matplotlib.pyplot as plt\n",
    "\n",
    "np_map = imageio.imread(\"input.d/pinchOff-0.png\").T[::-1, ::-1]\n",
    "height, width = np_map.shape\n",
    "print(height, width)\n",
    "\n",
    "plt.figure(1)\n",
    "plt.contourf(np_map)\n",
    "plt.colorbar()\n",
    "plt.show()"
   ]
  },
  {
   "cell_type": "markdown",
   "metadata": {},
   "source": [
    "## Set Threshold"
   ]
  },
  {
   "cell_type": "code",
   "execution_count": null,
   "metadata": {
    "scrolled": false
   },
   "outputs": [],
   "source": [
    "def threshold(np_map, THRESH=75):\n",
    "    res = np.copy(np_map)\n",
    "    res[np_map <= THRESH] = False\n",
    "    res[np_map > THRESH] = True\n",
    "    return res\n",
    "\n",
    "np_map1 = threshold(np_map)\n",
    "plt.figure(2)\n",
    "plt.contourf(np_map1[200:1280, 200:500])\n",
    "plt.colorbar()\n",
    "plt.show()"
   ]
  },
  {
   "cell_type": "markdown",
   "metadata": {},
   "source": [
    "# Edge Detection\n",
    "\n",
    "*   [Wikipedia](https://en.wikipedia.org/wiki/Edge_detection)\n",
    "*   [scikit-image](https://scikit-image.org/docs/dev/auto_examples/edges/plot_edge_filter.html)\n",
    "\n",
    "## Sobel Algorithm"
   ]
  },
  {
   "cell_type": "code",
   "execution_count": null,
   "metadata": {
    "scrolled": false
   },
   "outputs": [],
   "source": [
    "from scipy import ndimage\n",
    "\n",
    "def sobel(np_map, THRESH=70, THRESH_1 = 15.):\n",
    "    res = np.copy(np_map)\n",
    "    res[np_map <= THRESH] = 0\n",
    "    res_x = ndimage.sobel(res, axis=0)\n",
    "    res_y = ndimage.sobel(res, axis=1)\n",
    "    res = np.sqrt(res_x**2 + res_y**2)\n",
    "    res[res <= THRESH_1] = False\n",
    "    res[res > THRESH_1] = True\n",
    "    return res\n",
    "\n",
    "np_map3 = sobel(np_map)\n",
    "plt.figure(3)\n",
    "plt.contourf(np_map3[200:1280, 200:500])\n",
    "plt.colorbar()\n",
    "plt.show()"
   ]
  },
  {
   "cell_type": "markdown",
   "metadata": {},
   "source": [
    "## Canny Algorithm\n",
    "\n",
    "*   [scikit-learn](https://scikit-image.org/docs/dev/auto_examples/edges/plot_canny.html)"
   ]
  },
  {
   "cell_type": "code",
   "execution_count": null,
   "metadata": {},
   "outputs": [],
   "source": [
    "from skimage import feature\n",
    "\n",
    "def canny(np_map, THRESH=75, SIGMA=0.5):\n",
    "    res = np.copy(np_map)\n",
    "    res[np_map <= THRESH] = 0\n",
    "    res = feature.canny(1. * res, sigma=SIGMA)\n",
    "    return res\n",
    "\n",
    "np_map4 = canny(np_map)\n",
    "plt.figure(4)\n",
    "plt.contourf(np_map4[200:1280, 200:500])\n",
    "plt.colorbar()\n",
    "plt.show()"
   ]
  },
  {
   "cell_type": "markdown",
   "metadata": {},
   "source": [
    "# Ridge Detection\n",
    "\n",
    "*   [Wikipedia](https://en.wikipedia.org/wiki/Ridge_detection)\n",
    "*   [scikit-image](https://scikit-image.org/docs/dev/auto_examples/edges/plot_ridge_filter.html)\n",
    "\n",
    "## Meijering Filter"
   ]
  },
  {
   "cell_type": "code",
   "execution_count": null,
   "metadata": {},
   "outputs": [],
   "source": [
    "from skimage import filters\n",
    "\n",
    "def meijering(np_map, THRESH=75, BLACK=0.4):\n",
    "    res = np.copy(np_map)\n",
    "    res[np_map <= THRESH] = 0\n",
    "    res = filters.meijering(res, black_ridges=False)\n",
    "    res[np.where(res <= BLACK)] = False\n",
    "    res[np.where(res > BLACK)] = True\n",
    "    return res\n",
    "\n",
    "np_map5 = meijering(np_map)\n",
    "plt.figure(5)\n",
    "plt.contourf(np_map5[200:1280, 200:500])\n",
    "plt.colorbar()\n",
    "plt.show()"
   ]
  },
  {
   "cell_type": "markdown",
   "metadata": {},
   "source": [
    "## Sato Filter"
   ]
  },
  {
   "cell_type": "code",
   "execution_count": null,
   "metadata": {},
   "outputs": [],
   "source": [
    "def sato(np_map, THRESH=75, BLACK=0.04):\n",
    "    res = np.copy(np_map)\n",
    "    res[np_map <= THRESH] = 0\n",
    "    res = filters.sato(res, black_ridges=False)\n",
    "    res[np.where(res <= BLACK)] = False\n",
    "    res[np.where(res > BLACK)] = True\n",
    "    return res\n",
    "\n",
    "np_map6 = sato(np_map)\n",
    "plt.figure(6)\n",
    "plt.contourf(np_map6[200:1280, 200:500])\n",
    "plt.colorbar()\n",
    "plt.show()"
   ]
  },
  {
   "cell_type": "markdown",
   "metadata": {},
   "source": [
    "## Frangi Filter"
   ]
  },
  {
   "cell_type": "code",
   "execution_count": null,
   "metadata": {},
   "outputs": [],
   "source": [
    "def frangi(np_map, THRESH=75, BLACK=0.000003):\n",
    "    res = np.copy(np_map)\n",
    "    res[np_map <= THRESH] = 0\n",
    "    res = filters.frangi(res, black_ridges=False)\n",
    "    res[np.where(res <= BLACK)] = False\n",
    "    res[np.where(res > BLACK)] = True\n",
    "    return res\n",
    "\n",
    "np_map7 = frangi(np_map)\n",
    "plt.figure(7)\n",
    "plt.contourf(np_map7[200:1280, 200:500])\n",
    "plt.colorbar()\n",
    "plt.show()"
   ]
  },
  {
   "cell_type": "markdown",
   "metadata": {},
   "source": [
    "# Unsteady Case"
   ]
  },
  {
   "cell_type": "code",
   "execution_count": null,
   "metadata": {
    "collapsed": true,
    "scrolled": false
   },
   "outputs": [],
   "source": [
    "from matplotlib import gridspec\n",
    "\n",
    "input_map = np.zeros((height, width), dtype='uint8')\n",
    "output_map = np.zeros((height, width), dtype='uint8')\n",
    "\n",
    "OUTLET = 333\n",
    "CENTER = 355\n",
    "RADIUS = 108\n",
    "\n",
    "plt.ioff()\n",
    "for image_it in range(2001):\n",
    "    input_map[:, :] = imageio.imread(\"input.d/pinchOff-{}.png\".format(image_it)).T[::-1, ::-1]\n",
    "    output_map[:, :] = threshold(input_map)\n",
    "    \n",
    "    # Output.\n",
    "    fig = plt.figure(image_it)\n",
    "    ax = fig.gca()\n",
    "    h = ax.contourf(output_map[200:1280, 200:500])\n",
    "    fig.colorbar(h)\n",
    "    fig.savefig(\"output.d/pinchOff-{}.png\".format(image_it))\n",
    "    plt.close(fig)\n",
    "    \n",
    "    # Inout.\n",
    "    fig = plt.figure()\n",
    "    gs = gridspec.GridSpec(1, 2)\n",
    "    \n",
    "    ax = plt.subplot(gs[0, 1])\n",
    "    ax.contourf(input_map[200:1280, 200:500], cmap='gray')\n",
    "    ax.set_axis_off()\n",
    "    ax.set_aspect('equal')\n",
    "    \n",
    "    ax = plt.subplot(gs[0, 0])\n",
    "    ax.contourf(output_map[200:1280, 200:500])\n",
    "    ax.set_aspect('equal')\n",
    "    \n",
    "    fig.savefig(\"inout.d/pinchOff-{}.png\".format(image_it))\n",
    "    plt.close(fig)\n",
    "    \n",
    "    # Write text files.\n",
    "    f = open(\"visualisation.ref/surf_{}.dat\".format(image_it), 'w')\n",
    "    f.write(\"{}\\n\".format(np.nonzero(np.nonzero(output_map == True)[1] >= CENTER)[0].size))\n",
    "    for loc_it in np.transpose(np.nonzero(output_map == True)):\n",
    "        x = loc_it[1]\n",
    "        y = loc_it[0]\n",
    "        if x < CENTER:\n",
    "            continue\n",
    "        x = (x - CENTER) / RADIUS\n",
    "        y = (y - OUTLET) / RADIUS\n",
    "        f.write(\"{}\\t{}\\n\".format(x, y))\n",
    "    f.close()\n",
    "plt.ion()"
   ]
  }
 ],
 "metadata": {
  "kernelspec": {
   "display_name": "Python 3",
   "language": "python",
   "name": "python3"
  },
  "language_info": {
   "codemirror_mode": {
    "name": "ipython",
    "version": 3
   },
   "file_extension": ".py",
   "mimetype": "text/x-python",
   "name": "python",
   "nbconvert_exporter": "python",
   "pygments_lexer": "ipython3",
   "version": "3.5.2"
  }
 },
 "nbformat": 4,
 "nbformat_minor": 2
}
